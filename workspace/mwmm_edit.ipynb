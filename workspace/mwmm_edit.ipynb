{
 "cells": [
  {
   "cell_type": "markdown",
   "id": "8bf09ce1-b006-4084-b7e5-0a0abf92148b",
   "metadata": {},
   "source": [
    "# Minimum Weighted Maximum Matching"
   ]
  },
  {
   "cell_type": "markdown",
   "id": "e230230b-e4b5-4bd4-96f2-e574db3db16f",
   "metadata": {},
   "source": [
    "#### 編集者: 森雅也"
   ]
  },
  {
   "cell_type": "markdown",
   "id": "17c6004a-2c47-4991-a7bf-44ff1cc9c824",
   "metadata": {},
   "source": [
    "問題：  \n",
    "会社に属する新卒社員N人に対し，それぞれの希望順位に基づき2人1組のマッチングを行いたい(グループ数：N/2)．  \n",
    "\n",
    "解法：  \n",
    "仮に6人(A,B,C,D,E,F)がいるとした時，何かしらの情報を基にそれぞれの希望順位を書き出してもらう(今回は3位まで)．  \n",
    "そして，希望順位を基にそれぞれに点数を与える(1位:1pt,2位:2pt,3位:3pt,4位~:10pt)  \n",
    "- A, 1位:C 2位:D 3位:F\n",
    "- B, 1位:E 2位:F 3位:C\n",
    "- C, 1位:B 2位:E 3位:D\n",
    "- D, 1位:F 2位:A 3位:E\n",
    "- E, 1位:A 2位:F 3位:C\n",
    "- F, 1位:B 2位:D 3位:A \n",
    "\n",
    "続いて，上記の希望順位に基づき，[重み付き無向グラフ](https://algo-logic.info/graph/)を構築する．  \n",
    "この時の重みは，それぞれの希望順位による点数の総和とする．  \n",
    "例えば，A→Cは1位なので1pt，C→Aは圏外なので10pt，したがってA-C間の辺の重みは11ptである．  \n",
    "そうすると，これらは次のグラフのように表現することが可能である．  \n",
    "<img src=\"./img/graph.jpg\" width=\"50%\">\n",
    "\n",
    "したがって，全員の希望をいい感じに考慮しつつ問題で挙げたマッチングを行うには  \n",
    "- 必ず誰かしらとペアになる(最大マッチング)  \n",
    "- その際に辺の重みの総和を最小にする(最小費用)  \n",
    "\n",
    "を達成する必要がある(本当はばらつきも考慮すべきだが，今回は簡略化のため除く)．\n",
    "\n",
    "そのため今回は，『最小重み最大マッチング(Minimum Weighted Maximum Matching; mwmm)』を用いることで，\n",
    "これらの解決を試みる．  \n",
    "以下にソースコードを記述する．"
   ]
  },
  {
   "cell_type": "markdown",
   "id": "4be5ca53-ae06-4d54-a783-e676f06abbf9",
   "metadata": {},
   "source": [
    "## 参考資料"
   ]
  },
  {
   "cell_type": "markdown",
   "id": "76df684d-3666-4bb4-956c-d115ed215beb",
   "metadata": {},
   "source": [
    " - [マッチング問題とその変形に対するアルゴリズム](https://scmopt.github.io/opt100/30matching.html)  \n",
    "- [python: NetworkX による無向/有向グラフの読み込みと可視化](https://www.letsopt.com/entry/2019/10/22/214535)  "
   ]
  },
  {
   "cell_type": "markdown",
   "id": "086df374-5b6d-4999-bd6f-45bbcba93957",
   "metadata": {},
   "source": [
    "# ソースコード"
   ]
  },
  {
   "cell_type": "code",
   "execution_count": 3,
   "id": "978bc0bd-a4f3-4c37-b6dc-99ec51a33a46",
   "metadata": {},
   "outputs": [
    {
     "data": {
      "text/html": [
       "<div>\n",
       "<style scoped>\n",
       "    .dataframe tbody tr th:only-of-type {\n",
       "        vertical-align: middle;\n",
       "    }\n",
       "\n",
       "    .dataframe tbody tr th {\n",
       "        vertical-align: top;\n",
       "    }\n",
       "\n",
       "    .dataframe thead th {\n",
       "        text-align: right;\n",
       "    }\n",
       "</style>\n",
       "<table border=\"1\" class=\"dataframe\">\n",
       "  <thead>\n",
       "    <tr style=\"text-align: right;\">\n",
       "      <th></th>\n",
       "      <th>タイムスタンプ</th>\n",
       "      <th>名前を入力してください(例: 森雅也)</th>\n",
       "      <th>第1希望</th>\n",
       "      <th>第2希望</th>\n",
       "      <th>第3希望</th>\n",
       "    </tr>\n",
       "  </thead>\n",
       "  <tbody>\n",
       "    <tr>\n",
       "      <th>0</th>\n",
       "      <td>2022/04/03 4:54:11 午後 GMT+9</td>\n",
       "      <td>A</td>\n",
       "      <td>C</td>\n",
       "      <td>D</td>\n",
       "      <td>F</td>\n",
       "    </tr>\n",
       "    <tr>\n",
       "      <th>1</th>\n",
       "      <td>2022/04/03 4:54:29 午後 GMT+9</td>\n",
       "      <td>B</td>\n",
       "      <td>E</td>\n",
       "      <td>F</td>\n",
       "      <td>C</td>\n",
       "    </tr>\n",
       "    <tr>\n",
       "      <th>2</th>\n",
       "      <td>2022/04/03 4:54:46 午後 GMT+9</td>\n",
       "      <td>C</td>\n",
       "      <td>B</td>\n",
       "      <td>E</td>\n",
       "      <td>D</td>\n",
       "    </tr>\n",
       "    <tr>\n",
       "      <th>3</th>\n",
       "      <td>2022/04/03 4:55:03 午後 GMT+9</td>\n",
       "      <td>D</td>\n",
       "      <td>F</td>\n",
       "      <td>A</td>\n",
       "      <td>E</td>\n",
       "    </tr>\n",
       "    <tr>\n",
       "      <th>4</th>\n",
       "      <td>2022/04/03 4:55:25 午後 GMT+9</td>\n",
       "      <td>E</td>\n",
       "      <td>A</td>\n",
       "      <td>F</td>\n",
       "      <td>C</td>\n",
       "    </tr>\n",
       "    <tr>\n",
       "      <th>5</th>\n",
       "      <td>2022/04/03 4:55:36 午後 GMT+9</td>\n",
       "      <td>F</td>\n",
       "      <td>B</td>\n",
       "      <td>D</td>\n",
       "      <td>A</td>\n",
       "    </tr>\n",
       "  </tbody>\n",
       "</table>\n",
       "</div>"
      ],
      "text/plain": [
       "                       タイムスタンプ 名前を入力してください(例: 森雅也) 第1希望 第2希望 第3希望\n",
       "0  2022/04/03 4:54:11 午後 GMT+9                   A    C    D    F\n",
       "1  2022/04/03 4:54:29 午後 GMT+9                   B    E    F    C\n",
       "2  2022/04/03 4:54:46 午後 GMT+9                   C    B    E    D\n",
       "3  2022/04/03 4:55:03 午後 GMT+9                   D    F    A    E\n",
       "4  2022/04/03 4:55:25 午後 GMT+9                   E    A    F    C\n",
       "5  2022/04/03 4:55:36 午後 GMT+9                   F    B    D    A"
      ]
     },
     "execution_count": 3,
     "metadata": {},
     "output_type": "execute_result"
    }
   ],
   "source": [
    "import numpy as np\n",
    "import pandas as pd\n",
    "\n",
    "import matplotlib.pyplot as plt\n",
    "import networkx as nx\n",
    "\n",
    "data = pd.read_csv(\"./input/example.csv\")\n",
    "data"
   ]
  },
  {
   "cell_type": "markdown",
   "id": "c098913a-bb78-4d08-8934-e4db155ecada",
   "metadata": {
    "tags": []
   },
   "source": [
    "## 前処理"
   ]
  },
  {
   "cell_type": "code",
   "execution_count": 15,
   "id": "d1d4a8ac-9a87-4638-9761-3f8e8b42925a",
   "metadata": {},
   "outputs": [],
   "source": [
    "# 第1希望のscore\n",
    "NO1_SCORE = 1\n",
    "# 第2希望のscore\n",
    "NO2_SCORE = 2\n",
    "# 第3希望のscore\n",
    "NO3_SCORE = 3\n",
    "# 第4希望以降のscore\n",
    "OTHER_SCORE = 5"
   ]
  },
  {
   "cell_type": "code",
   "execution_count": 16,
   "id": "430deb23-9301-43ef-a012-7534a885a69f",
   "metadata": {},
   "outputs": [],
   "source": [
    "## タイムスタンプの削除\n",
    "data_wo_ts = data.drop(['タイムスタンプ'], axis=1)"
   ]
  },
  {
   "cell_type": "code",
   "execution_count": 17,
   "id": "981ad3aa-4925-47ac-8ca3-a57f5b2bc32a",
   "metadata": {},
   "outputs": [],
   "source": [
    "## nx.read_weighted_edgelist用にフォーマットを整える\n",
    "# 全体集合\n",
    "uni_set = data_wo_ts['名前を入力してください(例: 森雅也)'].values\n",
    "# 出力用の空配列(頂点，重み)の作成\n",
    "vertex, weight = [], []\n",
    "# 希望順位を基にweightを算出する\n",
    "def create_graph(sub, comp, score):\n",
    "    vertex.append([sub,comp])\n",
    "    weight.append(score)\n",
    "\n",
    "for i, sub in enumerate(uni_set):\n",
    "    for comp in uni_set:\n",
    "        # 対象者と比較が同一人物でないか\n",
    "        if sub != comp:\n",
    "            # 第1希望と比較対象が一致しているか\n",
    "            if data_wo_ts['第1希望'][i] == comp:\n",
    "                create_graph(sub, comp, NO1_SCORE)\n",
    "            elif data_wo_ts['第2希望'][i] == comp:\n",
    "                create_graph(sub, comp, NO2_SCORE)\n",
    "            elif data_wo_ts['第3希望'][i] == comp:\n",
    "                create_graph(sub, comp, NO3_SCORE)\n",
    "            else:\n",
    "                create_graph(sub, comp, OTHER_SCORE)\n",
    "\n",
    "# 矢印を無向に変換する\n",
    "vertex_sorted = [sorted(S) for i, S in enumerate(vertex)]\n",
    "# DataFrameに格納する\n",
    "df_graph = pd.DataFrame(vertex_sorted, columns=['頂点1','頂点2'])\n",
    "df_graph = pd.concat([df_graph, pd.Series(weight, name='weight').T], axis=1)\n",
    "# 重み算出後の無向グラフ\n",
    "w_graph = df_graph.groupby(['頂点1','頂点2'], as_index=False).sum()\n",
    "\n",
    "# txtで保存する\n",
    "w_graph.to_csv('./input/w_graph.txt', header=None, index=None, sep=' ')"
   ]
  },
  {
   "cell_type": "code",
   "execution_count": 18,
   "id": "86142ceb-1759-4b5e-adea-824c5f62e289",
   "metadata": {},
   "outputs": [
    {
     "data": {
      "text/html": [
       "<div>\n",
       "<style scoped>\n",
       "    .dataframe tbody tr th:only-of-type {\n",
       "        vertical-align: middle;\n",
       "    }\n",
       "\n",
       "    .dataframe tbody tr th {\n",
       "        vertical-align: top;\n",
       "    }\n",
       "\n",
       "    .dataframe thead th {\n",
       "        text-align: right;\n",
       "    }\n",
       "</style>\n",
       "<table border=\"1\" class=\"dataframe\">\n",
       "  <thead>\n",
       "    <tr style=\"text-align: right;\">\n",
       "      <th></th>\n",
       "      <th>頂点1</th>\n",
       "      <th>頂点2</th>\n",
       "      <th>weight</th>\n",
       "    </tr>\n",
       "  </thead>\n",
       "  <tbody>\n",
       "    <tr>\n",
       "      <th>0</th>\n",
       "      <td>A</td>\n",
       "      <td>B</td>\n",
       "      <td>10</td>\n",
       "    </tr>\n",
       "    <tr>\n",
       "      <th>1</th>\n",
       "      <td>A</td>\n",
       "      <td>C</td>\n",
       "      <td>6</td>\n",
       "    </tr>\n",
       "    <tr>\n",
       "      <th>2</th>\n",
       "      <td>A</td>\n",
       "      <td>D</td>\n",
       "      <td>4</td>\n",
       "    </tr>\n",
       "    <tr>\n",
       "      <th>3</th>\n",
       "      <td>A</td>\n",
       "      <td>E</td>\n",
       "      <td>6</td>\n",
       "    </tr>\n",
       "    <tr>\n",
       "      <th>4</th>\n",
       "      <td>A</td>\n",
       "      <td>F</td>\n",
       "      <td>6</td>\n",
       "    </tr>\n",
       "    <tr>\n",
       "      <th>5</th>\n",
       "      <td>B</td>\n",
       "      <td>C</td>\n",
       "      <td>4</td>\n",
       "    </tr>\n",
       "    <tr>\n",
       "      <th>6</th>\n",
       "      <td>B</td>\n",
       "      <td>D</td>\n",
       "      <td>10</td>\n",
       "    </tr>\n",
       "    <tr>\n",
       "      <th>7</th>\n",
       "      <td>B</td>\n",
       "      <td>E</td>\n",
       "      <td>6</td>\n",
       "    </tr>\n",
       "    <tr>\n",
       "      <th>8</th>\n",
       "      <td>B</td>\n",
       "      <td>F</td>\n",
       "      <td>3</td>\n",
       "    </tr>\n",
       "    <tr>\n",
       "      <th>9</th>\n",
       "      <td>C</td>\n",
       "      <td>D</td>\n",
       "      <td>8</td>\n",
       "    </tr>\n",
       "    <tr>\n",
       "      <th>10</th>\n",
       "      <td>C</td>\n",
       "      <td>E</td>\n",
       "      <td>5</td>\n",
       "    </tr>\n",
       "    <tr>\n",
       "      <th>11</th>\n",
       "      <td>C</td>\n",
       "      <td>F</td>\n",
       "      <td>10</td>\n",
       "    </tr>\n",
       "    <tr>\n",
       "      <th>12</th>\n",
       "      <td>D</td>\n",
       "      <td>E</td>\n",
       "      <td>8</td>\n",
       "    </tr>\n",
       "    <tr>\n",
       "      <th>13</th>\n",
       "      <td>D</td>\n",
       "      <td>F</td>\n",
       "      <td>3</td>\n",
       "    </tr>\n",
       "    <tr>\n",
       "      <th>14</th>\n",
       "      <td>E</td>\n",
       "      <td>F</td>\n",
       "      <td>7</td>\n",
       "    </tr>\n",
       "  </tbody>\n",
       "</table>\n",
       "</div>"
      ],
      "text/plain": [
       "   頂点1 頂点2  weight\n",
       "0    A   B      10\n",
       "1    A   C       6\n",
       "2    A   D       4\n",
       "3    A   E       6\n",
       "4    A   F       6\n",
       "5    B   C       4\n",
       "6    B   D      10\n",
       "7    B   E       6\n",
       "8    B   F       3\n",
       "9    C   D       8\n",
       "10   C   E       5\n",
       "11   C   F      10\n",
       "12   D   E       8\n",
       "13   D   F       3\n",
       "14   E   F       7"
      ]
     },
     "execution_count": 18,
     "metadata": {},
     "output_type": "execute_result"
    }
   ],
   "source": [
    "w_graph"
   ]
  },
  {
   "cell_type": "markdown",
   "id": "4bc9a056-da14-4545-bcf8-ce2635f79f54",
   "metadata": {},
   "source": [
    "## MVMMの適用"
   ]
  },
  {
   "cell_type": "code",
   "execution_count": 19,
   "id": "6efacfb2-c366-4e6a-960d-b368de80b0e5",
   "metadata": {},
   "outputs": [],
   "source": [
    "# 無向グラフの作成\n",
    "G = nx.Graph()\n",
    "\n",
    "# 重み付きのファイルの読み込み\n",
    "G = nx.read_weighted_edgelist('./input/w_graph.txt')#, nodetype=int"
   ]
  },
  {
   "cell_type": "code",
   "execution_count": 21,
   "id": "151ccb9a-bc44-48ff-8248-0fa3e9c4d012",
   "metadata": {
    "tags": []
   },
   "outputs": [
    {
     "data": {
      "image/png": "[encoded data removed]",
      "text/plain": [
       "<Figure size 432x288 with 1 Axes>"
      ]
     },
     "metadata": {},
     "output_type": "display_data"
    }
   ],
   "source": [
    "# グラフの描画\n",
    "pos = nx.spring_layout(G)\n",
    "edge_labels = {(i, j): w['weight'] for i, j, w in G.edges(data=True)}\n",
    "nx.draw_networkx_edge_labels(G,pos, edge_labels=edge_labels)\n",
    "nx.draw_networkx(G, pos, with_labels=True, alpha=0.7)\n",
    "\n",
    "# 表示\n",
    "plt.axis(\"off\")\n",
    "plt.show()"
   ]
  },
  {
   "cell_type": "code",
   "execution_count": 41,
   "id": "8ba7b45f-1d58-427a-9b2d-b162d739fb7c",
   "metadata": {},
   "outputs": [
    {
     "data": {
      "text/plain": [
       "{('A', 'D'), ('C', 'E'), ('F', 'B')}"
      ]
     },
     "execution_count": 41,
     "metadata": {},
     "output_type": "execute_result"
    }
   ],
   "source": [
    "# 計算\n",
    "edges = nx.min_weight_matching(G)\n",
    "edges"
   ]
  }
 ],
 "metadata": {
  "kernelspec": {
   "display_name": "Python 3 (ipykernel)",
   "language": "python",
   "name": "python3"
  },
  "language_info": {
   "codemirror_mode": {
    "name": "ipython",
    "version": 3
   },
   "file_extension": ".py",
   "mimetype": "text/x-python",
   "name": "python",
   "nbconvert_exporter": "python",
   "pygments_lexer": "ipython3",
   "version": "3.8.13"
  }
 },
 "nbformat": 4,
 "nbformat_minor": 5
}
