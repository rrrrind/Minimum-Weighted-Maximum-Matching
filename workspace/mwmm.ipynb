{
 "cells": [
  {
   "cell_type": "markdown",
   "id": "8bf09ce1-b006-4084-b7e5-0a0abf92148b",
   "metadata": {},
   "source": [
    "# Minimum Weighted Maximum Matching"
   ]
  },
  {
   "cell_type": "markdown",
   "id": "17c6004a-2c47-4991-a7bf-44ff1cc9c824",
   "metadata": {},
   "source": [
    "問題：  \n",
    "会社に属する新卒社員N人に対し，それぞれの希望順位に基づき2人1組のマッチングを行いたい(グループ数：N/2)．  \n",
    "\n",
    "解法：  \n",
    "仮に6人(A,B,C,D,E,F)がいるとした時，何かしらの情報を基にそれぞれの希望順位を書き出してもらう(今回は3位まで)．  \n",
    "そして，希望順位を基にそれぞれに点数を与える(1位:1pt,2位:2pt,3位:3pt,4位~:10pt)  \n",
    "- A, 1位:C 2位:D 3位:F\n",
    "- B, 1位:E 2位:F 3位:C\n",
    "- C, 1位:B 2位:E 3位:D\n",
    "- D, 1位:F 2位:A 3位:E\n",
    "- E, 1位:A 2位:F 3位:C\n",
    "- F, 1位:B 2位:D 3位:A \n",
    "\n",
    "続いて，上記の希望順位に基づき，[重み付き無向グラフ](https://algo-logic.info/graph/)を構築する．  \n",
    "この時の重みは，それぞれの希望順位による点数の総和とする．  \n",
    "例えば，A→Cは1位なので1pt，C→Aは圏外なので10pt，したがってA-C間の辺の重みは11ptである．  \n",
    "そうすると，これらは次のグラフのように表現することが可能である．  \n",
    "<img src=\"./img/graph.jpg\" width=\"50%\">\n",
    "\n",
    "したがって，全員の希望をいい感じに考慮しつつ問題で挙げたマッチングを行うには  \n",
    "- 必ず誰かしらとペアになる(最大マッチング)  \n",
    "- その際に辺の重みの総和を最小にする(最小費用)  \n",
    "\n",
    "を達成する必要がある(本当はばらつきも考慮すべきだが，今回は簡略化のため除く)．\n",
    "\n",
    "そのため今回は，『最小重み最大マッチング(Minimum Weighted Maximum Matching; mwmm)』を用いることで，\n",
    "これらの解決を試みる．  \n",
    "以下にソースコードを記述する．"
   ]
  },
  {
   "cell_type": "markdown",
   "id": "4be5ca53-ae06-4d54-a783-e676f06abbf9",
   "metadata": {},
   "source": [
    "## 参考資料"
   ]
  },
  {
   "cell_type": "markdown",
   "id": "76df684d-3666-4bb4-956c-d115ed215beb",
   "metadata": {},
   "source": [
    " - [マッチング問題とその変形に対するアルゴリズム](https://scmopt.github.io/opt100/30matching.html)  \n",
    "- [python: NetworkX による無向/有向グラフの読み込みと可視化](https://www.letsopt.com/entry/2019/10/22/214535)  "
   ]
  },
  {
   "cell_type": "markdown",
   "id": "086df374-5b6d-4999-bd6f-45bbcba93957",
   "metadata": {},
   "source": [
    "# ソースコード"
   ]
  },
  {
   "cell_type": "code",
   "execution_count": null,
   "id": "2085f63c-1f9b-425c-a4bc-62d3950a7f59",
   "metadata": {},
   "outputs": [],
   "source": []
  }
 ],
 "metadata": {
  "kernelspec": {
   "display_name": "Python 3 (ipykernel)",
   "language": "python",
   "name": "python3"
  },
  "language_info": {
   "codemirror_mode": {
    "name": "ipython",
    "version": 3
   },
   "file_extension": ".py",
   "mimetype": "text/x-python",
   "name": "python",
   "nbconvert_exporter": "python",
   "pygments_lexer": "ipython3",
   "version": "3.8.13"
  }
 },
 "nbformat": 4,
 "nbformat_minor": 5
}
